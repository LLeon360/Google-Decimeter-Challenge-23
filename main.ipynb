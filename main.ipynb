{
 "cells": [
  {
   "cell_type": "markdown",
   "metadata": {},
   "source": [
    "Import stuff"
   ]
  },
  {
   "cell_type": "code",
   "execution_count": null,
   "metadata": {},
   "outputs": [],
   "source": [
    "import numpy as np # linear algebra\n",
    "import pandas as pd # data processing, CSV file I/O (e.g. pd.read_csv)\n",
    "\n",
    "import numpy as np\n",
    "import pandas as pd\n",
    "from tqdm import tqdm, trange\n",
    "\n",
    "import glob\n",
    "\n",
    "\n",
    "\n",
    "# df_sample_trail_gnss = pd.read_csv(INPUT_PATH + \"train/2020-06-25-00-34-us-ca-mtv-sb-101/pixel4/device_gnss.csv\")\n",
    "# df_sample_trail_gt = pd.read_csv(INPUT_PATH + \"train/2020-06-25-00-34-us-ca-mtv-sb-101/pixel4/ground_truth.csv\")\n",
    "# sample_submission = pd.read_csv(INPUT_PATH + \"sample_submission.csv\")"
   ]
  },
  {
   "cell_type": "markdown",
   "metadata": {},
   "source": [
    "Get the input path (this is relative to kaggle)"
   ]
  },
  {
   "cell_type": "code",
   "execution_count": null,
   "metadata": {},
   "outputs": [],
   "source": [
    "INPUT_PATH = '/kaggle/input/smartphone-decimeter-2023/sdc2023/'"
   ]
  },
  {
   "cell_type": "markdown",
   "metadata": {},
   "source": [
    "# Extract the suggested columns (from slide deck)\n",
    "https://storage.googleapis.com/kaggle-forum-message-attachments/2476726/19771/ION%20GNSS%20Workshop%20for%20Smartphone%20Decimeter%20Challenge%202023.pdf\n",
    "## Relevant Raw values\n",
    "Signal travel time:\n",
    "\"TimeNanos\", \"LeapSecond\", \"TimeUncertaintyNanos\", \"FullBiasNanos\", \"BiasNanos\",\n",
    "Signal transmit time\n",
    "\"ReceivedSvTimeNanos\", \"ReceivedSvTimeUncertaintyNanos\",\n",
    "Doppler\n",
    "\"PseudorangeRateMetersPerSecond\", \"PseudorangeRateUncertaintyMetersPerSecond\",\n",
    "Carrier Phase\n",
    "\"AccumulatedDeltaRangeState\", \"AccumulatedDeltaRangeMeters\", \"AccumulatedDeltaRangeUncertaintyMeters\",\n",
    "Inter-Signal Biases\n",
    "\"FullInterSignalBiasNanos\", \"FullInterSignalBiasUncertaintyNanos\", \"SatelliteInterSignalBiasNanos\", \"SatelliteInterSignalBiasUncertaintyNanos\", \n",
    "Chipset timestamp for IMU sync\n",
    "\"ChipsetElapsedRealtimeNanos\"\n",
    "\n",
    "## Derived values\n",
    "\"ArrivalTimeNanosSinceGpsEpoch\", \"RawPseudorangeMeters\", \"RawPseudorangeUncertaintyMeters\", \"SignalType\", \"IsrbMeters\", \"IonosphericDelayMeters\", \"TroposphericDelayMeters\", \"WlsPositionXEcefMeters\", \"WlsPositionYEcefMeters\", \"WlsPositionZEcefMeters\""
   ]
  },
  {
   "cell_type": "code",
   "execution_count": null,
   "metadata": {},
   "outputs": [],
   "source": [
    "x_list = []\n",
    "# max_seq_len = 0\n",
    "for dirname in tqdm(sorted(glob.glob(f'{INPUT_PATH}/train/*/*'))[:3]):\n",
    "    drive, phone = dirname.split('/')[-2:]\n",
    "    tripID  = f'{drive}/{phone}'\n",
    "    print(tripID)\n",
    "    gt_df = pd.read_csv(f'{dirname}/ground_truth.csv')\n",
    "    gnss_df = pd.read_csv(f'{dirname}/device_gnss.csv')\n",
    "    \n",
    "#     print(gt_df.head())\n",
    "    gnss_filtered_df = gnss_df[[\"TimeNanos\", \"LeapSecond\", \"TimeUncertaintyNanos\", \"FullBiasNanos\", \"BiasNanos\", \"ReceivedSvTimeNanos\", \"ReceivedSvTimeUncertaintyNanos\", \"PseudorangeRateMetersPerSecond\", \"PseudorangeRateUncertaintyMetersPerSecond\", \"AccumulatedDeltaRangeState\", \"AccumulatedDeltaRangeMeters\", \"AccumulatedDeltaRangeUncertaintyMeters\", \"FullInterSignalBiasNanos\", \"FullInterSignalBiasUncertaintyNanos\", \"SatelliteInterSignalBiasNanos\", \"SatelliteInterSignalBiasUncertaintyNanos\", \"ArrivalTimeNanosSinceGpsEpoch\", \"RawPseudorangeMeters\", \"RawPseudorangeUncertaintyMeters\", \"SignalType\", \"IsrbMeters\", \"IonosphericDelayMeters\", \"TroposphericDelayMeters\", \"WlsPositionXEcefMeters\", \"WlsPositionYEcefMeters\", \"WlsPositionZEcefMeters\"]]\n",
    "    x_list.append(gnss_filtered_df.to_numpy())\n",
    "    # print(gnss_filtered_df.shape)\n",
    "    # max_seq_len = max(max_seq_len, gnss_filtered_df.shape[0])  "
   ]
  },
  {
   "cell_type": "code",
   "execution_count": null,
   "metadata": {},
   "outputs": [],
   "source": []
  }
 ],
 "metadata": {
  "language_info": {
   "name": "python"
  }
 },
 "nbformat": 4,
 "nbformat_minor": 2
}
